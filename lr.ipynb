{
 "cells": [
  {
   "cell_type": "code",
   "execution_count": 1,
   "metadata": {},
   "outputs": [],
   "source": [
    "import pandas as pd\n",
    "%matplotlib inline\n",
    "import matplotlib.pyplot as plt\n",
    "import numpy as np\n"
   ]
  },
  {
   "cell_type": "code",
   "execution_count": 9,
   "metadata": {},
   "outputs": [],
   "source": [
    "data = pd.read_csv("https://raw.githubusercontent.com/IamAbhiKaushik/ml_database/master/headbrain_lr.csv", error_bad_lines=False)"
   ]
  },
  {
   "cell_type": "code",
   "execution_count": 12,
   "metadata": {},
   "outputs": [
    {
     "name": "stdout",
     "output_type": "stream",
     "text": [
      "(237, 4)\n"
     ]
    },
    {
     "data": {
      "text/plain": [
       "<bound method NDFrame.head of      Gender  Age Range  Head Size(cm^3)  Brain Weight(grams)\n",
       "0         1          1             4512                 1530\n",
       "1         1          1             3738                 1297\n",
       "2         1          1             4261                 1335\n",
       "3         1          1             3777                 1282\n",
       "4         1          1             4177                 1590\n",
       "..      ...        ...              ...                  ...\n",
       "232       2          2             3214                 1110\n",
       "233       2          2             3394                 1215\n",
       "234       2          2             3233                 1104\n",
       "235       2          2             3352                 1170\n",
       "236       2          2             3391                 1120\n",
       "\n",
       "[237 rows x 4 columns]>"
      ]
     },
     "execution_count": 12,
     "metadata": {},
     "output_type": "execute_result"
    }
   ],
   "source": [
    "print(data.shape)\n",
    "data.head"
   ]
  },
  {
   "cell_type": "code",
   "execution_count": 51,
   "metadata": {},
   "outputs": [],
   "source": [
    "X = data[\"Head Size(cm^3)\"].values\n",
    "Y = data[\"Brain Weight(grams)\"].values\n",
    "X = X.reshape(-1, 1) \n",
    "Y = Y.reshape(-1, 1)"
   ]
  },
  {
   "cell_type": "code",
   "execution_count": 52,
   "metadata": {},
   "outputs": [],
   "source": [
    "from sklearn.linear_model import LinearRegression\n",
    "lr = LinearRegression()"
   ]
  },
  {
   "cell_type": "code",
   "execution_count": 53,
   "metadata": {},
   "outputs": [],
   "source": [
    "from sklearn import model_selection\n",
    "x_train, x_test, y_train, y_test = model_selection.train_test_split(X,Y)"
   ]
  },
  {
   "cell_type": "code",
   "execution_count": 55,
   "metadata": {},
   "outputs": [
    {
     "data": {
      "text/plain": [
       "LinearRegression(copy_X=True, fit_intercept=True, n_jobs=None, normalize=False)"
      ]
     },
     "execution_count": 55,
     "metadata": {},
     "output_type": "execute_result"
    }
   ],
   "source": [
    "lr.fit(x_train, y_train)"
   ]
  },
  {
   "cell_type": "code",
   "execution_count": 72,
   "metadata": {},
   "outputs": [
    {
     "data": {
      "text/plain": [
       "[<matplotlib.lines.Line2D at 0x7f9a02683898>]"
      ]
     },
     "execution_count": 72,
     "metadata": {},
     "output_type": "execute_result"
    },
    {
     "data": {
      "image/png": "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\n",
      "text/plain": [
       "<Figure size 432x288 with 1 Axes>"
      ]
     },
     "metadata": {
      "needs_background": "light"
     },
     "output_type": "display_data"
    }
   ],
   "source": [
    "slope_of_equation = lr.coef_\n",
    "y_intercept = lr.intercept_\n",
    "\n",
    "plt.plot(x_test, slope_of_equation*x_test+y_intercept)"
   ]
  },
  {
   "cell_type": "code",
   "execution_count": 59,
   "metadata": {},
   "outputs": [],
   "source": [
    "y_predict = lr.predict(x_test)"
   ]
  },
  {
   "cell_type": "code",
   "execution_count": 71,
   "metadata": {},
   "outputs": [
    {
     "data": {
      "image/png": "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\n",
      "text/plain": [
       "<Figure size 432x288 with 1 Axes>"
      ]
     },
     "metadata": {
      "needs_background": "light"
     },
     "output_type": "display_data"
    }
   ],
   "source": [
    "plt.scatter(y_predict, y_test)\n",
    "plt.xlabel('this is a xlabel')\n",
    "plt.show()\n"
   ]
  },
  {
   "cell_type": "code",
   "execution_count": 65,
   "metadata": {},
   "outputs": [
    {
     "data": {
      "image/png": "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\n",
      "text/plain": [
       "<Figure size 432x288 with 1 Axes>"
      ]
     },
     "metadata": {
      "needs_background": "light"
     },
     "output_type": "display_data"
    }
   ],
   "source": [
    "plt.scatter(x_train, y_train)\n",
    "plt.show()"
   ]
  },
  {
   "cell_type": "code",
   "execution_count": null,
   "metadata": {},
   "outputs": [],
   "source": []
  }
 ],
 "metadata": {
  "kernelspec": {
   "display_name": "Python 3",
   "language": "python",
   "name": "python3"
  },
  "language_info": {
   "codemirror_mode": {
    "name": "ipython",
    "version": 3
   },
   "file_extension": ".py",
   "mimetype": "text/x-python",
   "name": "python",
   "nbconvert_exporter": "python",
   "pygments_lexer": "ipython3",
   "version": "3.7.3"
  }
 },
 "nbformat": 4,
 "nbformat_minor": 4
}
